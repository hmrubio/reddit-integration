{
 "cells": [
  {
   "cell_type": "markdown",
   "source": [
    "El siguiente entregable mostrará el trabajo realizado en el código. Lo buscado en el trabajo final es responder las preguntas de: ¿Cuántos comentarios de reddit se publican por día sobre los subreddits trabajados?\n",
    "\n",
    "En esta entrega se realiza la carga de los datos. Aún no se terminó la carga de las tablas \"facts\", ya que estas requieren de un nuevo módulo que trabaja de manera diaramente y postprocese datos cargados con anterioridad. La tabla fact_daily_comments_published posee granularidad diaria."
   ],
   "metadata": {
    "collapsed": false
   }
  }
 ],
 "metadata": {
  "kernelspec": {
   "display_name": "Python 3",
   "language": "python",
   "name": "python3"
  },
  "language_info": {
   "codemirror_mode": {
    "name": "ipython",
    "version": 2
   },
   "file_extension": ".py",
   "mimetype": "text/x-python",
   "name": "python",
   "nbconvert_exporter": "python",
   "pygments_lexer": "ipython2",
   "version": "2.7.6"
  }
 },
 "nbformat": 4,
 "nbformat_minor": 0
}
